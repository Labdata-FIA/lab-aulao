{
 "cells": [
  {
   "cell_type": "markdown",
   "id": "31f1b3cd-f977-4c27-91a0-96ced4e67f98",
   "metadata": {},
   "source": [
    "## Imports necessários"
   ]
  },
  {
   "cell_type": "code",
   "execution_count": 11,
   "id": "94373002-8804-4320-ad4d-9d3b18e8759a",
   "metadata": {},
   "outputs": [],
   "source": [
    "from pymongo import MongoClient\n",
    "import pymongoarrow\n",
    "from pymongoarrow.api import Schema\n",
    "import pandas\n",
    "from pymongoarrow.monkey import patch_all\n",
    "from datetime import datetime\n",
    "import pyarrow as pa\n",
    "patch_all()"
   ]
  },
  {
   "cell_type": "markdown",
   "id": "273c8e9a-294b-4b42-9c9a-627b218fb4eb",
   "metadata": {},
   "source": [
    "## Conexão com o mongodb"
   ]
  },
  {
   "cell_type": "code",
   "execution_count": 12,
   "id": "a05a6fab-8ede-4885-affe-ab18173c7c80",
   "metadata": {},
   "outputs": [],
   "source": [
    "client = MongoClient(\"mongodb://mongo1:27017,mongo2:27017,mongo3:27017/loja?replicaSet=db-replica-set&readPreference=secondaryPreferred&readPreferenceTags=dc:SP\")"
   ]
  },
  {
   "cell_type": "code",
   "execution_count": 13,
   "id": "965a2b2b-50ad-4f3d-877a-5752c5ece7a1",
   "metadata": {},
   "outputs": [
    {
     "data": {
      "text/plain": [
       "['admin', 'config', 'local', 'loja']"
      ]
     },
     "execution_count": 13,
     "metadata": {},
     "output_type": "execute_result"
    }
   ],
   "source": [
    "client.list_database_names()"
   ]
  },
  {
   "cell_type": "markdown",
   "id": "1034797f-49da-4c0f-aab1-a0eee1e4fda8",
   "metadata": {},
   "source": [
    "### Configuração do banco de dados e collection"
   ]
  },
  {
   "cell_type": "code",
   "execution_count": 14,
   "id": "30cb1b9b-f4c3-478e-80fe-af6bc30c6e8c",
   "metadata": {},
   "outputs": [],
   "source": [
    "db = client[\"loja\"]\n",
    "colecao = db[\"produtos\"]\n"
   ]
  },
  {
   "cell_type": "markdown",
   "id": "2baa365a-52cd-4ae0-aa3d-9030c0db094f",
   "metadata": {},
   "source": [
    "## Convertendo para o Pandas os documentos do Mongodb"
   ]
  },
  {
   "cell_type": "code",
   "execution_count": 15,
   "id": "d101716a-e58d-401a-8047-66e7545ed76f",
   "metadata": {},
   "outputs": [],
   "source": [
    "df= colecao.find_pandas_all({\"nomeProduto\": \"Produto 19\"})"
   ]
  },
  {
   "cell_type": "code",
   "execution_count": 17,
   "id": "95ab5823-a7b0-4494-9d10-29600e9740a0",
   "metadata": {},
   "outputs": [
    {
     "name": "stdout",
     "output_type": "stream",
     "text": [
      "                        _id  idProduto nomeProduto  valorProduto  \\\n",
      "0  67b531141a78374c04d16272         20  Produto 19       1938.97   \n",
      "\n",
      "           idSkus                                               skus  \\\n",
      "0  [66987, 69227]  [{'idSku': 66987, 'nome': 'Produto 19-0', 'val...   \n",
      "\n",
      "                                  marcas  \\\n",
      "0  [{'idMarca': 10, 'nome': 'Marca 50'}]   \n",
      "\n",
      "                                          categorias  \\\n",
      "0  [{'idCategoria': 10, 'nome': 'Categoria 2'}, {...   \n",
      "\n",
      "                                             imagens  \n",
      "0  [{'idImagem': 4077, 'url': 'https://example.co...  \n"
     ]
    }
   ],
   "source": [
    "print(df.head())"
   ]
  },
  {
   "cell_type": "markdown",
   "id": "aab066d8-3d0d-4fd7-bb01-f88342f7c5d4",
   "metadata": {},
   "source": [
    "## Convertendo para o Apache Arrow os documentos do Mongodb"
   ]
  },
  {
   "cell_type": "code",
   "execution_count": 18,
   "id": "a5dfe431-1274-4b69-9803-35271afcc3b4",
   "metadata": {},
   "outputs": [],
   "source": [
    "arrow_table = colecao.find_arrow_all({\"nomeProduto\": \"Produto 19\"})"
   ]
  },
  {
   "cell_type": "code",
   "execution_count": 19,
   "id": "bdfea128-49d3-4baf-bd81-cb602be01202",
   "metadata": {},
   "outputs": [
    {
     "name": "stdout",
     "output_type": "stream",
     "text": [
      "pyarrow.Table\n",
      "_id: extension<pymongoarrow.objectid<ObjectIdType>>\n",
      "idProduto: int32\n",
      "nomeProduto: string\n",
      "valorProduto: double\n",
      "idSkus: list<item: int32>\n",
      "  child 0, item: int32\n",
      "skus: list<item: struct<idSku: int32, nome: string, valor: double, estoque: int32, cor: string>>\n",
      "  child 0, item: struct<idSku: int32, nome: string, valor: double, estoque: int32, cor: string>\n",
      "      child 0, idSku: int32\n",
      "      child 1, nome: string\n",
      "      child 2, valor: double\n",
      "      child 3, estoque: int32\n",
      "      child 4, cor: string\n",
      "marcas: list<item: struct<idMarca: int32, nome: string>>\n",
      "  child 0, item: struct<idMarca: int32, nome: string>\n",
      "      child 0, idMarca: int32\n",
      "      child 1, nome: string\n",
      "categorias: list<item: struct<idCategoria: int32, nome: string>>\n",
      "  child 0, item: struct<idCategoria: int32, nome: string>\n",
      "      child 0, idCategoria: int32\n",
      "      child 1, nome: string\n",
      "imagens: list<item: struct<idImagem: int32, url: string>>\n",
      "  child 0, item: struct<idImagem: int32, url: string>\n",
      "      child 0, idImagem: int32\n",
      "      child 1, url: string\n",
      "----\n",
      "_id: [[67B531141A78374C04D16272]]\n",
      "idProduto: [[20]]\n",
      "nomeProduto: [[\"Produto 19\"]]\n",
      "valorProduto: [[1938.97]]\n",
      "idSkus: [[[66987,69227]]]\n",
      "skus: [[    -- is_valid: all not null\n",
      "    -- child 0 type: int32\n",
      "[66987,69227]\n",
      "    -- child 1 type: string\n",
      "[\"Produto 19-0\",\"Produto 19-1\"]\n",
      "    -- child 2 type: double\n",
      "[4875.12,4890.85]\n",
      "    -- child 3 type: int32\n",
      "[17,33]\n",
      "    -- child 4 type: string\n",
      "[\"Verde\",\"Amarelo\"]]]\n",
      "marcas: [[    -- is_valid: all not null\n",
      "    -- child 0 type: int32\n",
      "[10]\n",
      "    -- child 1 type: string\n",
      "[\"Marca 50\"]]]\n",
      "categorias: [[    -- is_valid: all not null\n",
      "    -- child 0 type: int32\n",
      "[10,4]\n",
      "    -- child 1 type: string\n",
      "[\"Categoria 2\",\"Categoria 4\"]]]\n",
      "imagens: [[    -- is_valid: all not null\n",
      "    -- child 0 type: int32\n",
      "[4077,9622,8109]\n",
      "    -- child 1 type: string\n",
      "[\"https://example.com/img40.jpg\",\"https://example.com/img57.jpg\",\"https://example.com/img31.jpg\"]]]\n"
     ]
    }
   ],
   "source": [
    "print(arrow_table)"
   ]
  },
  {
   "cell_type": "markdown",
   "id": "37210dd6-6fc4-4727-ab6b-d82eee0ce4af",
   "metadata": {},
   "source": [
    "## Configurando o schema para o resultado"
   ]
  },
  {
   "cell_type": "code",
   "execution_count": 20,
   "id": "4f2f8c61-f72c-4bab-b57d-3f2d9d683ff8",
   "metadata": {},
   "outputs": [],
   "source": [
    "# Definir um Schema para os produtos\n",
    "produto_schema = Schema({\n",
    "    \"idProduto\": pa.int32(),\n",
    "    \"nomeProduto\": pa.string(),\n",
    "    \"valorProduto\": pa.float64(),\n",
    "    \"idSkus\": pa.list_(pa.int32()),  # Array de inteiros\n",
    "    \"skus\": pa.list_(pa.struct({     # Array de JSONs embutidos\n",
    "        \"idSku\": pa.int32(),\n",
    "        \"nome\": pa.string(),\n",
    "        \"valor\": pa.float64()\n",
    "    })),\n",
    "     \"categorias\": pa.list_(pa.struct({     # Array de JSONs embutidos\n",
    "        \"idCategoria\": pa.int32(),\n",
    "        \"nome\": pa.string()     \n",
    "    })),  # Array de strings\n",
    "     \"marcas\": pa.list_(pa.struct({     # Array de JSONs embutidos\n",
    "        \"idMarca\": pa.int32(),\n",
    "        \"nome\": pa.string()     \n",
    "    })),  # Array de strings\n",
    "    \"imagens\": pa.list_(pa.struct({   # Array de JSONs para imagens\n",
    "        \"url\": pa.string()      \n",
    "    }))\n",
    "})\n"
   ]
  },
  {
   "cell_type": "code",
   "execution_count": 21,
   "id": "950c6927-dddc-42d1-be8a-4c747c3f94cf",
   "metadata": {},
   "outputs": [],
   "source": [
    "df= colecao.find_pandas_all({\"nomeProduto\": \"Produto 19\"},schema=produto_schema)"
   ]
  },
  {
   "cell_type": "code",
   "execution_count": 22,
   "id": "72f0908e-8c0d-4983-a114-8e80e38f9392",
   "metadata": {},
   "outputs": [
    {
     "name": "stdout",
     "output_type": "stream",
     "text": [
      "   idProduto nomeProduto  valorProduto          idSkus  \\\n",
      "0         20  Produto 19       1938.97  [66987, 69227]   \n",
      "\n",
      "                                                skus  \\\n",
      "0  [{'idSku': 66987, 'nome': 'Produto 19-0', 'val...   \n",
      "\n",
      "                                          categorias  \\\n",
      "0  [{'idCategoria': 10, 'nome': 'Categoria 2'}, {...   \n",
      "\n",
      "                                  marcas  \\\n",
      "0  [{'idMarca': 10, 'nome': 'Marca 50'}]   \n",
      "\n",
      "                                             imagens  \n",
      "0  [{'url': 'https://example.com/img40.jpg'}, {'u...  \n"
     ]
    }
   ],
   "source": [
    "# Exibir a estrutura do schema retornado\n",
    "print(df)"
   ]
  },
  {
   "cell_type": "markdown",
   "id": "d2b3b034-e0c7-4ffd-a90f-6a8b9ce2534d",
   "metadata": {},
   "source": [
    "## Consultando as informações com agregações"
   ]
  },
  {
   "cell_type": "code",
   "execution_count": 23,
   "id": "2232da67-6da1-49eb-a7de-8b511f19f768",
   "metadata": {},
   "outputs": [],
   "source": [
    "df = colecao.aggregate_pandas_all([{ \"$unwind\": \"$skus\" },{ \"$project\": {\"_id\":0, \"nomeProduto\": 1, \"idSku\": \"$skus.idSku\", \"nomeSku\": \"$skus.nome\", \"valor\": \"$skus.valor\" } }])"
   ]
  },
  {
   "cell_type": "code",
   "execution_count": 24,
   "id": "62d6f951-525e-4a50-89ae-217a9be97dbc",
   "metadata": {},
   "outputs": [
    {
     "name": "stdout",
     "output_type": "stream",
     "text": [
      "      nomeProduto  idSku        nomeSku    valor\n",
      "0       Produto 7  93301    Produto 7-0  4293.02\n",
      "1       Produto 7  67922    Produto 7-1  4859.48\n",
      "2       Produto 7  77185    Produto 7-2  4563.95\n",
      "3      Produto 39  89282   Produto 39-0  4681.97\n",
      "4      Produto 39  30299   Produto 39-1   660.60\n",
      "...           ...    ...            ...      ...\n",
      "1580  Produto 493  38398  Produto 493-0   270.40\n",
      "1581  Produto 493  91055  Produto 493-1  3749.68\n",
      "1582  Produto 493  75592  Produto 493-2   669.25\n",
      "1583  Produto 493  84598  Produto 493-3  4673.84\n",
      "1584  Produto 493  64779  Produto 493-4  1845.09\n",
      "\n",
      "[1585 rows x 4 columns]\n"
     ]
    }
   ],
   "source": [
    "print(df)"
   ]
  },
  {
   "cell_type": "markdown",
   "id": "8d8ba1fb-f16a-4fbb-bb4b-ac6468c4e6e6",
   "metadata": {},
   "source": [
    "## Escrevendo o resultado em uma coleção do Mongodb"
   ]
  },
  {
   "cell_type": "code",
   "execution_count": 25,
   "id": "1cef70ea-c41d-444f-a2d8-82fe936c1b84",
   "metadata": {},
   "outputs": [
    {
     "data": {
      "text/plain": [
       "{'insertedCount': 1585}"
      ]
     },
     "execution_count": 25,
     "metadata": {},
     "output_type": "execute_result"
    }
   ],
   "source": [
    "from pymongoarrow.api import write\n",
    "colecao_sku = db[\"skus\"]\n",
    "write(colecao_sku, df)"
   ]
  },
  {
   "cell_type": "code",
   "execution_count": null,
   "id": "b4d8a302-34d7-435e-a7a0-9b1cc2696314",
   "metadata": {},
   "outputs": [],
   "source": []
  }
 ],
 "metadata": {
  "kernelspec": {
   "display_name": "Python 3 (ipykernel)",
   "language": "python",
   "name": "python3"
  },
  "language_info": {
   "codemirror_mode": {
    "name": "ipython",
    "version": 3
   },
   "file_extension": ".py",
   "mimetype": "text/x-python",
   "name": "python",
   "nbconvert_exporter": "python",
   "pygments_lexer": "ipython3",
   "version": "3.11.6"
  }
 },
 "nbformat": 4,
 "nbformat_minor": 5
}
