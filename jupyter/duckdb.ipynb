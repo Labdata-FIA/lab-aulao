{
 "cells": [
  {
   "cell_type": "markdown",
   "id": "31f1b3cd-f977-4c27-91a0-96ced4e67f98",
   "metadata": {},
   "source": [
    "## Imports necessários"
   ]
  },
  {
   "cell_type": "code",
   "execution_count": 8,
   "id": "94373002-8804-4320-ad4d-9d3b18e8759a",
   "metadata": {},
   "outputs": [],
   "source": [
    "from deltalake.writer import write_deltalake\n",
    "from deltalake import DeltaTable\n",
    "import duckdb\n",
    "\n",
    "cn=duckdb.connect()"
   ]
  },
  {
   "cell_type": "markdown",
   "id": "273c8e9a-294b-4b42-9c9a-627b218fb4eb",
   "metadata": {},
   "source": [
    "## Extensão"
   ]
  },
  {
   "cell_type": "code",
   "execution_count": 4,
   "id": "a05a6fab-8ede-4885-affe-ab18173c7c80",
   "metadata": {},
   "outputs": [
    {
     "data": {
      "text/plain": [
       "┌──────────────────┬─────────┬───────────┬──────────────┬────────────────────────────────────────────────────────────────────────────────────┬───────────────────┬───────────────────┬───────────────────┬────────────────┐\n",
       "│  extension_name  │ loaded  │ installed │ install_path │                                    description                                     │      aliases      │ extension_version │   install_mode    │ installed_from │\n",
       "│     varchar      │ boolean │  boolean  │   varchar    │                                      varchar                                       │     varchar[]     │      varchar      │      varchar      │    varchar     │\n",
       "├──────────────────┼─────────┼───────────┼──────────────┼────────────────────────────────────────────────────────────────────────────────────┼───────────────────┼───────────────────┼───────────────────┼────────────────┤\n",
       "│ arrow            │ false   │ false     │              │ A zero-copy data integration between Apache Arrow and DuckDB                       │ []                │                   │ NULL              │                │\n",
       "│ autocomplete     │ false   │ false     │              │ Adds support for autocomplete in the shell                                         │ []                │                   │ NULL              │                │\n",
       "│ aws              │ false   │ false     │              │ Provides features that depend on the AWS SDK                                       │ []                │                   │ NULL              │                │\n",
       "│ azure            │ false   │ false     │              │ Adds a filesystem abstraction for Azure blob storage to DuckDB                     │ []                │                   │ NULL              │                │\n",
       "│ core_functions   │ true    │ true      │ (BUILT-IN)   │ Core function library                                                              │ []                │                   │ STATICALLY_LINKED │                │\n",
       "│ delta            │ false   │ false     │              │ Adds support for Delta Lake                                                        │ []                │                   │ NULL              │                │\n",
       "│ excel            │ false   │ false     │              │ Adds support for Excel-like format strings                                         │ []                │                   │ NULL              │                │\n",
       "│ fts              │ false   │ false     │              │ Adds support for Full-Text Search Indexes                                          │ []                │                   │ NULL              │                │\n",
       "│ httpfs           │ false   │ false     │              │ Adds support for reading and writing files over a HTTP(S) connection               │ [http, https, s3] │                   │ NULL              │                │\n",
       "│ iceberg          │ false   │ false     │              │ Adds support for Apache Iceberg                                                    │ []                │                   │ NULL              │                │\n",
       "│ icu              │ true    │ true      │ (BUILT-IN)   │ Adds support for time zones and collations using the ICU library                   │ []                │                   │ STATICALLY_LINKED │                │\n",
       "│ inet             │ false   │ false     │              │ Adds support for IP-related data types and functions                               │ []                │                   │ NULL              │                │\n",
       "│ jemalloc         │ true    │ true      │ (BUILT-IN)   │ Overwrites system allocator with JEMalloc                                          │ []                │                   │ STATICALLY_LINKED │                │\n",
       "│ json             │ true    │ true      │ (BUILT-IN)   │ Adds support for JSON operations                                                   │ []                │                   │ STATICALLY_LINKED │                │\n",
       "│ motherduck       │ false   │ false     │              │ Enables motherduck integration with the system                                     │ [md]              │                   │ NULL              │                │\n",
       "│ mysql_scanner    │ false   │ false     │              │ Adds support for connecting to a MySQL database                                    │ [mysql]           │                   │ NULL              │                │\n",
       "│ parquet          │ true    │ true      │ (BUILT-IN)   │ Adds support for reading and writing parquet files                                 │ []                │                   │ STATICALLY_LINKED │                │\n",
       "│ postgres_scanner │ false   │ false     │              │ Adds support for connecting to a Postgres database                                 │ [postgres]        │                   │ NULL              │                │\n",
       "│ spatial          │ false   │ false     │              │ Geospatial extension that adds support for working with spatial data and functions │ []                │                   │ NULL              │                │\n",
       "│ sqlite_scanner   │ false   │ false     │              │ Adds support for reading and writing SQLite database files                         │ [sqlite, sqlite3] │                   │ NULL              │                │\n",
       "│ tpcds            │ false   │ false     │              │ Adds TPC-DS data generation and query support                                      │ []                │                   │ NULL              │                │\n",
       "│ tpch             │ true    │ true      │ (BUILT-IN)   │ Adds TPC-H data generation and query support                                       │ []                │                   │ STATICALLY_LINKED │                │\n",
       "│ vss              │ false   │ false     │              │ Adds indexing support to accelerate Vector Similarity Search                       │ []                │                   │ NULL              │                │\n",
       "├──────────────────┴─────────┴───────────┴──────────────┴────────────────────────────────────────────────────────────────────────────────────┴───────────────────┴───────────────────┴───────────────────┴────────────────┤\n",
       "│ 23 rows                                                                                                                                                                                                       9 columns │\n",
       "└─────────────────────────────────────────────────────────────────────────────────────────────────────────────────────────────────────────────────────────────────────────────────────────────────────────────────────────┘"
      ]
     },
     "execution_count": 4,
     "metadata": {},
     "output_type": "execute_result"
    }
   ],
   "source": [
    "cn.sql(\"\"\"from duckdb_extensions() \"\"\")"
   ]
  },
  {
   "cell_type": "code",
   "execution_count": 5,
   "id": "2232da67-6da1-49eb-a7de-8b511f19f768",
   "metadata": {},
   "outputs": [
    {
     "data": {
      "text/plain": [
       "<duckdb.duckdb.DuckDBPyConnection at 0x7f9185c5d7b0>"
      ]
     },
     "execution_count": 5,
     "metadata": {},
     "output_type": "execute_result"
    }
   ],
   "source": [
    "cn.execute(\"INSTALL httpfs;\")"
   ]
  },
  {
   "cell_type": "code",
   "execution_count": 6,
   "id": "1dc132dd-129a-4e4c-a567-8bf4d3be5629",
   "metadata": {},
   "outputs": [
    {
     "data": {
      "text/plain": [
       "<duckdb.duckdb.DuckDBPyConnection at 0x7f9185c5d7b0>"
      ]
     },
     "execution_count": 6,
     "metadata": {},
     "output_type": "execute_result"
    }
   ],
   "source": [
    "cn.execute(\"LOAD httpfs;\")"
   ]
  },
  {
   "cell_type": "code",
   "execution_count": 15,
   "id": "7fa33edc-8232-4244-a58b-d81f0f6bdcd1",
   "metadata": {},
   "outputs": [
    {
     "data": {
      "text/plain": [
       "┌─────────┐\n",
       "│ Success │\n",
       "│ boolean │\n",
       "├─────────┤\n",
       "│ true    │\n",
       "└─────────┘"
      ]
     },
     "execution_count": 15,
     "metadata": {},
     "output_type": "execute_result"
    }
   ],
   "source": [
    "cn.sql(\"\"\"CREATE SECRET secret_minio  (\n",
    "            TYPE S3,\n",
    "            KEY_ID 'cursolab',\n",
    "            SECRET 'cursolab',\n",
    "            REGION 'us-east-1',\n",
    "            ENDPOINT 'minio:9000',\n",
    "            URL_STYLE 'path',\n",
    "            USE_SSL false\n",
    "            );\"\"\"\n",
    "        )"
   ]
  },
  {
   "cell_type": "code",
   "execution_count": 16,
   "id": "67ecb0f0-efc5-480b-8989-5dd246c3e407",
   "metadata": {},
   "outputs": [
    {
     "ename": "IOException",
     "evalue": "IO Error: Could not establish connection error for HTTP HEAD to 'http://localhost:9001/raw/categories.csv' with status 32658",
     "output_type": "error",
     "traceback": [
      "\u001b[0;31m---------------------------------------------------------------------------\u001b[0m",
      "\u001b[0;31mIOException\u001b[0m                               Traceback (most recent call last)",
      "Cell \u001b[0;32mIn[16], line 1\u001b[0m\n\u001b[0;32m----> 1\u001b[0m \u001b[43mcn\u001b[49m\u001b[38;5;241;43m.\u001b[39;49m\u001b[43msql\u001b[49m\u001b[43m(\u001b[49m\u001b[38;5;124;43m\"\"\"\u001b[39;49m\n\u001b[1;32m      2\u001b[0m \u001b[38;5;124;43m        CREATE TABLE bookings AS \u001b[39;49m\n\u001b[1;32m      3\u001b[0m \u001b[38;5;124;43m        SELECT * \u001b[39;49m\n\u001b[1;32m      4\u001b[0m \u001b[38;5;124;43m        FROM read_csv_auto(\u001b[39;49m\u001b[38;5;124;43m'\u001b[39;49m\u001b[38;5;124;43ms3://raw/categories.csv\u001b[39;49m\u001b[38;5;124;43m'\u001b[39;49m\u001b[38;5;124;43m, all_varchar=1)\u001b[39;49m\n\u001b[1;32m      5\u001b[0m \u001b[38;5;124;43m       \u001b[39;49m\n\u001b[1;32m      6\u001b[0m \u001b[38;5;124;43m    \u001b[39;49m\u001b[38;5;124;43m\"\"\"\u001b[39;49m\u001b[43m)\u001b[49m\n",
      "\u001b[0;31mIOException\u001b[0m: IO Error: Could not establish connection error for HTTP HEAD to 'http://localhost:9001/raw/categories.csv' with status 32658"
     ]
    }
   ],
   "source": [
    "cn.sql(\"\"\"\n",
    "        CREATE TABLE bookings AS \n",
    "        SELECT * \n",
    "        FROM read_csv_auto('s3://raw/categories.csv', all_varchar=1)\n",
    "       \n",
    "    \"\"\")"
   ]
  },
  {
   "cell_type": "code",
   "execution_count": 17,
   "id": "88a77559-a59f-4f75-9853-105db2ce9327",
   "metadata": {},
   "outputs": [],
   "source": [
    "cn.sql(\"\"\"DROP SECRET secret_minio;\"\"\")"
   ]
  },
  {
   "cell_type": "code",
   "execution_count": null,
   "id": "5812d886-9842-4fe1-9928-1b88976f25cb",
   "metadata": {},
   "outputs": [],
   "source": []
  }
 ],
 "metadata": {
  "kernelspec": {
   "display_name": "Python 3 (ipykernel)",
   "language": "python",
   "name": "python3"
  },
  "language_info": {
   "codemirror_mode": {
    "name": "ipython",
    "version": 3
   },
   "file_extension": ".py",
   "mimetype": "text/x-python",
   "name": "python",
   "nbconvert_exporter": "python",
   "pygments_lexer": "ipython3",
   "version": "3.11.6"
  }
 },
 "nbformat": 4,
 "nbformat_minor": 5
}
